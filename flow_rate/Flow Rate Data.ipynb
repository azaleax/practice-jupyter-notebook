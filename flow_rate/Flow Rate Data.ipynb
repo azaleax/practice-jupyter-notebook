{
 "cells": [
  {
   "cell_type": "markdown",
   "metadata": {},
   "source": [
    "# Flow Rate Data"
   ]
  },
  {
   "cell_type": "markdown",
   "metadata": {},
   "source": [
    "Graph of flow rate data from San Diego River at Fashion Valley (USGS 11023000)"
   ]
  },
  {
   "cell_type": "code",
   "execution_count": 275,
   "metadata": {
    "collapsed": true
   },
   "outputs": [],
   "source": [
    "import pandas as pd\n",
    "import numpy as np\n",
    "import requests as req\n",
    "from bokeh.plotting import figure, output_file, show\n",
    "from datetime import datetime"
   ]
  },
  {
   "cell_type": "markdown",
   "metadata": {},
   "source": [
    "Get JSON file of the water data from USGS website\n",
    "\n",
    "Documentation for formatting for json retrieval from USGS can be found at\n",
    "\n",
    "<https://help.waterdata.usgs.gov/faq/automated-retrievals>"
   ]
  },
  {
   "cell_type": "code",
   "execution_count": 276,
   "metadata": {
    "scrolled": false
   },
   "outputs": [],
   "source": [
    "r = req.get('http://waterservices.usgs.gov/nwis/iv/?sites=11023000&period=P7D&parameterCd=00060&format=json')\n",
    "data = r.json()"
   ]
  },
  {
   "cell_type": "code",
   "execution_count": 277,
   "metadata": {},
   "outputs": [],
   "source": [
    "# TODO see if I can use list comprehension.\n",
    "# df = pd.DataFrame(d['values'] for d in data['value']['timeSeries'])\n",
    "# df = pd.DataFrame([[j['value'] for j in i['values']] for i in data['value']['timeSeries']])"
   ]
  },
  {
   "cell_type": "code",
   "execution_count": 278,
   "metadata": {
    "scrolled": true
   },
   "outputs": [],
   "source": [
    "cfs_data = []\n",
    "for i in data['value']['timeSeries']:\n",
    "    for j in i['values']:\n",
    "        for k in j['value']:\n",
    "            cfs_data.append(k)\n",
    "\n",
    "cfs_df = pd.DataFrame(cfs_data)"
   ]
  },
  {
   "cell_type": "code",
   "execution_count": 279,
   "metadata": {
    "scrolled": true
   },
   "outputs": [],
   "source": [
    "# Convert strings into operable types\n",
    "for idx, row in cfs_df.iterrows():\n",
    "    # Remove ':' from timezone formatting\n",
    "    datetime_stripped_str = row.dateTime[:-3] + row.dateTime[-2:]\n",
    "    cfs_df.iloc[idx].dateTime = pd.to_datetime(datetime_stripped_str)\n",
    "    cfs_df.iloc[idx].value = float(row.value)"
   ]
  }
 ],
 "metadata": {
  "kernelspec": {
   "display_name": "Python 3",
   "language": "python",
   "name": "python3"
  },
  "language_info": {
   "codemirror_mode": {
    "name": "ipython",
    "version": 3
   },
   "file_extension": ".py",
   "mimetype": "text/x-python",
   "name": "python",
   "nbconvert_exporter": "python",
   "pygments_lexer": "ipython3",
   "version": "3.6.3"
  }
 },
 "nbformat": 4,
 "nbformat_minor": 2
}
